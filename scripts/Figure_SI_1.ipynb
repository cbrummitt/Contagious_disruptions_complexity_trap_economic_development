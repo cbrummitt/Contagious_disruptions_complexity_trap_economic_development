{
 "cells": [
  {
   "cell_type": "markdown",
   "metadata": {},
   "source": [
    "# Simulate the model and make Figure SI-1"
   ]
  },
  {
   "cell_type": "markdown",
   "metadata": {},
   "source": [
    "## Imports"
   ]
  },
  {
   "cell_type": "markdown",
   "metadata": {},
   "source": [
    "First run all of the code in this section to import the necessary packages. \n",
    "\n",
    "First we load some magic commands:"
   ]
  },
  {
   "cell_type": "code",
   "execution_count": 1,
   "metadata": {
    "collapsed": false
   },
   "outputs": [],
   "source": [
    "%load_ext autoreload\n",
    "%autoreload 2\n",
    "%matplotlib inline"
   ]
  },
  {
   "cell_type": "markdown",
   "metadata": {},
   "source": [
    "Next load some standard modules. If you do not have one of these modules (such as [progressbar](https://pypi.python.org/pypi/progressbar2) or [joblib](https://pypi.python.org/pypi/joblib)), then run, for example, `!pip install progressbar` to install it using `pip`."
   ]
  },
  {
   "cell_type": "code",
   "execution_count": 2,
   "metadata": {
    "collapsed": false
   },
   "outputs": [],
   "source": [
    "import numpy as np\n",
    "import matplotlib.pyplot as plt\n",
    "import matplotlib as mpl\n",
    "import pandas as pd\n",
    "import seaborn as sns\n",
    "import time, datetime\n",
    "import progressbar\n",
    "import pickle\n",
    "import os\n",
    "from itertools import product\n",
    "from joblib import Parallel, delayed\n",
    "from scipy import stats\n",
    "import sys\n",
    "sys.setrecursionlimit(10000) # to be able to pickle the results of simulations and avoid a RecursionError"
   ]
  },
  {
   "cell_type": "markdown",
   "metadata": {},
   "source": [
    "Set style parameters for matplotlib figures:"
   ]
  },
  {
   "cell_type": "code",
   "execution_count": 3,
   "metadata": {
    "collapsed": false
   },
   "outputs": [],
   "source": [
    "from matplotlib import rc\n",
    "rc('font', **{'family': 'sans-serif','sans-serif': ['Helvetica']})\n",
    "rc('text', usetex=True)\n",
    "rc('axes', **{'titlesize': 10, 'labelsize': 8})\n",
    "rc('legend', **{'fontsize': 9})"
   ]
  },
  {
   "cell_type": "markdown",
   "metadata": {},
   "source": [
    "Set the path for saving the figures:"
   ]
  },
  {
   "cell_type": "code",
   "execution_count": 4,
   "metadata": {
    "collapsed": false
   },
   "outputs": [],
   "source": [
    "figures_path = os.path.join(os.pardir, 'figures')\n",
    "if not os.path.exists(figures_path):\n",
    "    os.mkdir(figures_path)"
   ]
  },
  {
   "cell_type": "markdown",
   "metadata": {},
   "source": [
    "Import the code for simulating the model:"
   ]
  },
  {
   "cell_type": "code",
   "execution_count": 5,
   "metadata": {
    "collapsed": false
   },
   "outputs": [],
   "source": [
    "import ABM\n",
    "import EconomySimulator"
   ]
  },
  {
   "cell_type": "markdown",
   "metadata": {},
   "source": [
    "## Panel (a): long-run fraction functional as a function of the initial condition"
   ]
  },
  {
   "cell_type": "markdown",
   "metadata": {},
   "source": [
    "### Compute the data (takes about 1.5 hours to run)"
   ]
  },
  {
   "cell_type": "markdown",
   "metadata": {},
   "source": [
    "The code in the cell below creates a pandas DataFrame called `long_run_results`. It in `long_run_results` the dictionary returned by the function `EconomySimulator.simulate_economy_long_run`. This dictionary contains some measures of the state of the model economy after 1000 production attempts have been simulated. \n",
    "\n",
    "The function `run_long_run_sim` sets the parameters of the economy, and the for loop iterates over the initial condition `F0` (the initial fraction of functional agents), `r` in `[1, 2000]`, `xi` in `[0, 1]`, and a trial index `trial` in `range(1000)` (we run 1000 trials for each initial condition).\n",
    "\n",
    "\n",
    "**Warning**: _This code takes about 1.5 hours to run on a laptop computer_. To avoid having to re-run this, run the cell under the section heading **Load `long_run_results` from the hard drive** below."
   ]
  },
  {
   "cell_type": "code",
   "execution_count": null,
   "metadata": {
    "collapsed": true
   },
   "outputs": [],
   "source": [
    "def run_long_run_sim(trial_number, F0, r, xi):\n",
    "    n_agents = 200\n",
    "    beta = .4\n",
    "    n_steps = 5 * n_agents\n",
    "    L = 1\n",
    "    exog_fail = 0.0001\n",
    "    alpha = 0.15\n",
    "    tolerance_std = 0.0\n",
    "    n_steps_detect_fixed_point = 50\n",
    "\n",
    "    return EconomySimulator.simulate_economy_long_run(\n",
    "        n_agents=n_agents, init_fraction_functional=F0,\n",
    "        alpha=alpha, beta=beta, r=r, L=L, xi=xi, exog_fail=exog_fail,\n",
    "        n_steps=n_steps, trial=trial_number,\n",
    "        tolerance_std=tolerance_std, n_steps_detect_fixed_point=n_steps_detect_fixed_point)\n",
    "\n",
    "try:\n",
    "    long_run_results\n",
    "except NameError:\n",
    "    long_run_results = None\n",
    "\n",
    "start_time = time.time()\n",
    "long_run_results = pd.concat([long_run_results, pd.DataFrame(\n",
    "    Parallel(n_jobs=4)(\n",
    "        delayed(run_long_run_sim)(trial, F0, r, xi)\n",
    "        for trial in range(1000)\n",
    "        for F0 in np.arange(.155, .205, .01)\n",
    "        for r in [1., 2000.]\n",
    "        for xi in [0, 1]\n",
    "    )\n",
    ")])\n",
    "end_time = time.time()\n",
    "print(datetime.timedelta(seconds=(end_time - start_time)))"
   ]
  },
  {
   "cell_type": "markdown",
   "metadata": {},
   "source": [
    "This confirms that we have 1000 simulations for each quadruple `(r, xi, n_agents, init_F)`."
   ]
  },
  {
   "cell_type": "code",
   "execution_count": 7,
   "metadata": {
    "collapsed": true
   },
   "outputs": [
    {
     "data": {
      "text/plain": [
       "r       xi  n_agents  init_F\n",
       "1.0     0   200       0.140     1000\n",
       "                      0.150     1000\n",
       "                      0.155     1000\n",
       "                      0.160     1000\n",
       "                      0.165     1000\n",
       "                      0.170     1000\n",
       "                      0.175     1000\n",
       "                      0.180     1000\n",
       "                      0.185     1000\n",
       "                      0.190     1000\n",
       "                      0.195     1000\n",
       "                      0.200     1000\n",
       "        1   200       0.140     1000\n",
       "                      0.150     1000\n",
       "                      0.155     1000\n",
       "                      0.160     1000\n",
       "                      0.165     1000\n",
       "                      0.170     1000\n",
       "                      0.175     1000\n",
       "                      0.180     1000\n",
       "                      0.185     1000\n",
       "                      0.190     1000\n",
       "                      0.195     1000\n",
       "                      0.200     1000\n",
       "2000.0  0   200       0.140     1000\n",
       "                      0.150     1000\n",
       "                      0.155     1000\n",
       "                      0.160     1000\n",
       "                      0.165     1000\n",
       "                      0.170     1000\n",
       "                      0.175     1000\n",
       "                      0.180     1000\n",
       "                      0.185     1000\n",
       "                      0.190     1000\n",
       "                      0.195     1000\n",
       "                      0.200     1000\n",
       "        1   200       0.140     1000\n",
       "                      0.150     1000\n",
       "                      0.155     1000\n",
       "                      0.160     1000\n",
       "                      0.165     1000\n",
       "                      0.170     1000\n",
       "                      0.175     1000\n",
       "                      0.180     1000\n",
       "                      0.185     1000\n",
       "                      0.190     1000\n",
       "                      0.195     1000\n",
       "                      0.200     1000\n",
       "dtype: int64"
      ]
     },
     "execution_count": 7,
     "metadata": {},
     "output_type": "execute_result"
    }
   ],
   "source": [
    "long_run_results.groupby(['r', 'xi', 'n_agents', 'init_F']).size()"
   ]
  },
  {
   "cell_type": "markdown",
   "metadata": {},
   "source": [
    "#### Save the data to the hard drive as a `CSV` file"
   ]
  },
  {
   "cell_type": "code",
   "execution_count": null,
   "metadata": {
    "collapsed": true
   },
   "outputs": [],
   "source": [
    "long_run_results.to_csv(\n",
    "    os.path.join(\n",
    "        'simulated_data',\n",
    "        'long_run_results_n200_alpha0p15_beta0p4_epsilon0p0001.csv'))"
   ]
  },
  {
   "cell_type": "markdown",
   "metadata": {},
   "source": [
    "#### Load `long_run_results` from the hard drive"
   ]
  },
  {
   "cell_type": "markdown",
   "metadata": {},
   "source": [
    "Run the code below to load the results from the CSV file in order to avoid having to re-run the simulations above (which takes about 90 minutes):"
   ]
  },
  {
   "cell_type": "code",
   "execution_count": 6,
   "metadata": {
    "collapsed": false
   },
   "outputs": [],
   "source": [
    "long_run_results = pd.read_csv(\n",
    "    os.path.join(\n",
    "        'simulated_data',\n",
    "        'long_run_results_n200_alpha0p15_beta0p4_epsilon0p0001.csv'),\n",
    "    index_col=0)"
   ]
  },
  {
   "cell_type": "markdown",
   "metadata": {},
   "source": [
    "## Panel (b): show two representative time-series"
   ]
  },
  {
   "cell_type": "markdown",
   "metadata": {},
   "source": [
    "#### Simulate the original model and the model with sticky links and preferential attachment"
   ]
  },
  {
   "cell_type": "markdown",
   "metadata": {},
   "source": [
    "Either \n",
    "\n",
    "* run the simulations below (which should take around 50 minutes to run), or \n",
    "* load the results of those simulations that were pickled (scroll down to the heading **Load the simulations from the `pickle` file `sim_N1000_alpha0p15_beta0p4eps0p0001_initF0p7.pkl`**)."
   ]
  },
  {
   "cell_type": "markdown",
   "metadata": {},
   "source": [
    "##### Simulate the original model "
   ]
  },
  {
   "cell_type": "markdown",
   "metadata": {},
   "source": [
    "Set up the simulation:"
   ]
  },
  {
   "cell_type": "code",
   "execution_count": null,
   "metadata": {
    "collapsed": true
   },
   "outputs": [],
   "source": [
    "sim_N1000_alpha0p15_beta0p4_r1_xi0_eps0p0001_initF0p7 = EconomySimulator.AssortativitySimulator(\n",
    "    ABM.Economy(1000, .7, alpha=.15, beta=.4, r=1, exog_fail=0.0001, xi=0))"
   ]
  },
  {
   "cell_type": "markdown",
   "metadata": {},
   "source": [
    "This takes about 22 minutes to run:"
   ]
  },
  {
   "cell_type": "code",
   "execution_count": null,
   "metadata": {
    "collapsed": true
   },
   "outputs": [],
   "source": [
    "sim_N1000_alpha0p15_beta0p4_r1_xi0_eps0p0001_initF0p7.simulate(200000)"
   ]
  },
  {
   "cell_type": "markdown",
   "metadata": {},
   "source": [
    "Plot some time-series from the simulation:"
   ]
  },
  {
   "cell_type": "code",
   "execution_count": null,
   "metadata": {
    "collapsed": true
   },
   "outputs": [],
   "source": [
    "sim_N1000_alpha0p15_beta0p4_r1_xi0_eps0p0001_initF0p7.combined_plot()"
   ]
  },
  {
   "cell_type": "markdown",
   "metadata": {},
   "source": [
    "##### Simulate the model with sticky links and preferential attachment"
   ]
  },
  {
   "cell_type": "markdown",
   "metadata": {},
   "source": [
    "Set up the simulation:"
   ]
  },
  {
   "cell_type": "code",
   "execution_count": null,
   "metadata": {
    "collapsed": true
   },
   "outputs": [],
   "source": [
    "sim_N1000_alpha0p15_beta0p4_r2000_xi1_eps0p0001_initF0p7 = EconomySimulator.AssortativitySimulator(\n",
    "    ABM.Economy(1000, .7, alpha=.15, beta=.4, r=2000., exog_fail=0.0001, xi=1))"
   ]
  },
  {
   "cell_type": "markdown",
   "metadata": {},
   "source": [
    "This takes about 25 minutes to run:"
   ]
  },
  {
   "cell_type": "code",
   "execution_count": null,
   "metadata": {
    "collapsed": true
   },
   "outputs": [],
   "source": [
    "sim_N1000_alpha0p15_beta0p4_r2000_xi1_eps0p0001_initF0p7.simulate(200000)"
   ]
  },
  {
   "cell_type": "markdown",
   "metadata": {},
   "source": [
    "Plot some time-series from the simulation:"
   ]
  },
  {
   "cell_type": "code",
   "execution_count": null,
   "metadata": {
    "collapsed": true
   },
   "outputs": [],
   "source": [
    "sim_N1000_alpha0p15_beta0p4_r2000_xi1_eps0p0001_initF0p7.combined_plot()"
   ]
  },
  {
   "cell_type": "markdown",
   "metadata": {},
   "source": [
    "#### Save and load the two simulations above using `pickle`"
   ]
  },
  {
   "cell_type": "markdown",
   "metadata": {},
   "source": [
    "###### Save (pickle) the simulations to file `sim_N1000_alpha0p15_beta0p4eps0p0001_initF0p7.pkl`:"
   ]
  },
  {
   "cell_type": "code",
   "execution_count": null,
   "metadata": {
    "collapsed": false
   },
   "outputs": [],
   "source": [
    "with open(os.path.join('simulated_data', 'sim_N1000_alpha0p15_beta0p4_eps0p0001_initF0p7_r1_xi0.pkl'), 'wb') as f:\n",
    "    pickle.dump(sim_N1000_alpha0p15_beta0p4_r1_xi0_eps0p0001_initF0p7, f)\n",
    "\n",
    "with open(os.path.join('simulated_data', 'sim_N1000_alpha0p15_beta0p4_eps0p0001_initF0p7_r2000_xi1.pkl'), 'wb') as f:\n",
    "    pickle.dump(sim_N1000_alpha0p15_beta0p4_r2000_xi1_eps0p0001_initF0p7, f)"
   ]
  },
  {
   "cell_type": "markdown",
   "metadata": {},
   "source": [
    "###### Load the simulations from the `pickle` file `sim_N1000_alpha0p15_beta0p4eps0p0001_initF0p7.pkl`:"
   ]
  },
  {
   "cell_type": "markdown",
   "metadata": {},
   "source": [
    "Run the code below to avoid having to run the two simulations above:"
   ]
  },
  {
   "cell_type": "code",
   "execution_count": 8,
   "metadata": {
    "collapsed": false
   },
   "outputs": [],
   "source": [
    "with open(os.path.join('simulated_data', 'sim_N1000_alpha0p15_beta0p4_eps0p0001_initF0p7_r1_xi0.pkl'), 'rb') as f:\n",
    "    sim_N1000_alpha0p15_beta0p4_r1_xi0_eps0p0001_initF0p7 = pickle.load(f)\n",
    "\n",
    "with open(os.path.join('simulated_data', 'sim_N1000_alpha0p15_beta0p4_eps0p0001_initF0p7_r2000_xi1.pkl'), 'rb') as f:\n",
    "    sim_N1000_alpha0p15_beta0p4_r2000_xi1_eps0p0001_initF0p7 = pickle.load(f)"
   ]
  },
  {
   "cell_type": "markdown",
   "metadata": {},
   "source": [
    "## Make Figure SI-1"
   ]
  },
  {
   "cell_type": "markdown",
   "metadata": {},
   "source": [
    "The cell below makes Figure SI-1 and saves it to the folder `figures` as a PDF."
   ]
  },
  {
   "cell_type": "code",
   "execution_count": 9,
   "metadata": {
    "collapsed": false
   },
   "outputs": [
    {
     "data": {
      "image/png": "[encoded data removed]",
      "text/plain": [
       "<matplotlib.figure.Figure at 0x1066217f0>"
      ]
     },
     "metadata": {},
     "output_type": "display_data"
    }
   ],
   "source": [
    "data = long_run_results\n",
    "data.init_F = np.round(data.init_F, 3)\n",
    "data = data[((data.r == 1) & (data.xi == 0)) | ((data.r > 1) & (data.xi > 0))]\n",
    "grouped_by_r_xi = data.groupby(['r', 'xi'])\n",
    "\n",
    "fig, ax = plt.subplots(ncols=2, figsize=(3.4 * 2 * .95, 3.4 / 5 * 3))\n",
    "\n",
    "colors = ['#2ca02c', '#e377c2']\n",
    "handles = []\n",
    "labels = []\n",
    "indx = 0\n",
    "for r_xi, r_df in grouped_by_r_xi:\n",
    "    color = colors[indx]\n",
    "    indx += 1\n",
    "    labels.append(r_xi)\n",
    "    linestyle = {0: '-', 1: '--'}.get(r_xi[1])\n",
    "    data_final_F = (\n",
    "        r_df.groupby('init_F')['final_F']\n",
    "            .agg({\n",
    "                'mean_final_F': np.mean,\n",
    "                'std_final_F': np.std,\n",
    "                'num_trials': 'size',\n",
    "                'sem_final_F': lambda final_F: np.std(final_F) / len(final_F)**.5,\n",
    "                '75_percentile_final_F': lambda final_F: np.percentile(final_F, 75.),\n",
    "                '25_percentile_final_F': lambda final_F: np.percentile(final_F, 25.)}))\n",
    "    handle, = ax[0].plot(data_final_F.index, data_final_F.mean_final_F, label=str(r_xi),\n",
    "                      color=color, alpha=1, linewidth=1,\n",
    "                      linestyle='-')\n",
    "    ax[0].errorbar(data_final_F.index, data_final_F.mean_final_F,\n",
    "                   yerr=2 * data_final_F.sem_final_F,\n",
    "                   label=str(r_xi),\n",
    "                   color=color)\n",
    "    handles.append(handle)\n",
    "ax[0].set_xlabel(r'$F(0) \\equiv$ initial fraction functional')\n",
    "ax[0].set_ylabel(r'mean of $F(1000)$')\n",
    "ax[0].set_ylim(0, 1)\n",
    "xlim = (0.14 - .001, .201)\n",
    "ax[0].set_xlim(*xlim)\n",
    "\n",
    "height_trap_label = .01\n",
    "label_size = 8\n",
    "ax[0].annotate(\n",
    "    \"\",\n",
    "    xy=(xlim[0], height_trap_label),\n",
    "    xytext=(.15, height_trap_label),\n",
    "    arrowprops=dict(linewidth=1, headwidth=3, headlength=2, width=0.25))\n",
    "ax[0].text(xlim[0] * .65 + .15 * .35, height_trap_label + .04, 'trap',\n",
    "           color='k', size=label_size)\n",
    "\n",
    "height_bimodal_label = height_trap_label\n",
    "ax[0].annotate(\n",
    "    \"\",\n",
    "    xy=(.152, height_bimodal_label),\n",
    "    xytext=(.185, height_bimodal_label),\n",
    "    arrowprops=dict(linewidth=1, headwidth=3, headlength=2, width=0.25))\n",
    "ax[0].annotate(\n",
    "    \"\",\n",
    "    xytext=(.152, height_bimodal_label),\n",
    "    xy=(.185, height_bimodal_label),\n",
    "    arrowprops=dict(linewidth=1, headwidth=3, headlength=2, width=0.25))\n",
    "ax[0].text(.152 * .65 + .185 * .35, height_bimodal_label + .04, 'bimodal', color='k', size=label_size)\n",
    "\n",
    "ax[0].annotate(\n",
    "    'original model'\n",
    "    #'\\n'\n",
    "    #r'$(r, \\xi) = (1, 0)$'\n",
    "    ,\n",
    "    size=label_size,\n",
    "    xy=(.1725, .56),\n",
    "    xytext=(.17, .30),\n",
    "    xycoords='data',\n",
    "    textcoords='data',\n",
    "    arrowprops=dict(arrowstyle=\"-|>\", linewidth=1, connectionstyle=\"arc3,rad=.2\"))\n",
    "\n",
    "ax[0].annotate(\n",
    "    'sticky links'\n",
    "    #r' ($r = 2000$)'\n",
    "    ' and'\n",
    "    '\\n'\n",
    "    'prefential attachment'\n",
    "    #r' ($\\xi = 1$)'\n",
    "    ,\n",
    "    size=label_size,\n",
    "    xy=(.1625, .5),\n",
    "    xytext=(.145, .74),\n",
    "    xycoords='data',\n",
    "    textcoords='data',\n",
    "    arrowprops=dict(arrowstyle=\"-|>\", linewidth=1, connectionstyle=\"arc3,rad=.2\"))\n",
    "\n",
    "\n",
    "sims = [\n",
    "    sim_N1000_alpha0p15_beta0p4_r1_xi0_eps0p0001_initF0p7,\n",
    "    sim_N1000_alpha0p15_beta0p4_r2000_xi1_eps0p0001_initF0p7\n",
    "]\n",
    "for indx, sim in enumerate(sims):\n",
    "    ax[1].plot(sim.fraction_functional_history,\n",
    "               alpha=.8,\n",
    "               color=colors[indx], linewidth=1)\n",
    "ax[1].set_ylabel(r'$F(t)$')\n",
    "ax[1].set_xlabel(r'time $t$ (number of production attempts)')\n",
    "ax[1].set_xlim(0, sims[0].economy.n_production_attempts)\n",
    "ax[1].set_ylim(0, 1)\n",
    "ax[1].set_xticks([0, 10**5, 2 * 10**5], ['0', '10^5', '2 10^5'])\n",
    "ax[1].tick_params(axis='both', labelsize=7, colors='.4')\n",
    "ax[0].tick_params(axis='both', labelsize=7, colors='.4')\n",
    "def format_label(value, pos):\n",
    "    return {\n",
    "        0: '0',\n",
    "        2.5 * 10**4: '',#r'$2.5\\!\\!\\times\\!\\!10^4$',\n",
    "        5 * 10**4: r'$5\\!\\!\\times\\!\\!10^4$',\n",
    "        10**5: r'$10^5$',\n",
    "        1.5 * 10**5: r'$1.5\\!\\!\\times\\!\\!10^5$',\n",
    "        2*10**5: r'$2\\!\\!\\times\\!\\!10^5$'\n",
    "    }.get(value, '')\n",
    "ax[1].xaxis.set_major_formatter(mpl.ticker.FuncFormatter(format_label))\n",
    "\n",
    "fig.text(.001, .94, r'\\textbf{(a)}', size=label_size)\n",
    "fig.text(#.49, \n",
    "    .50,\n",
    "    .94, r'\\textbf{(b)}', size=label_size)\n",
    "\n",
    "fig.tight_layout(pad=0.15)\n",
    "fig.subplots_adjust(wspace=.25)\n",
    "fig.savefig(os.path.join(figures_path, 'figure_SI_1.pdf'))\n",
    "plt.show()"
   ]
  },
  {
   "cell_type": "markdown",
   "metadata": {},
   "source": [
    "### Check statistical significance of the difference in means in Figure SI-1(a)"
   ]
  },
  {
   "cell_type": "markdown",
   "metadata": {},
   "source": [
    "In the cell below, we find that the means of $F(1000)$ are statistically significantly different between the two models for $F(0) = 0.155, 0.16, 0.165, ..., 0.2$ according to the two-sided Mann-Whitney $U$ test  ($p$-value $< 10^{-5}$):"
   ]
  },
  {
   "cell_type": "code",
   "execution_count": 10,
   "metadata": {
    "collapsed": false
   },
   "outputs": [
    {
     "name": "stdout",
     "output_type": "stream",
     "text": [
      "F(0) =  0.14\n",
      "\tmean F(1000) for original model: 0.127\n",
      "\tmean F(1000) for sticky/PA model: 0.127\n",
      "\tMann-Whitney U test:\n",
      "\t\tp-value:  0.946502714362 \n",
      "\t\tU =  500848.0 \n",
      "\n",
      "F(0) =  0.15\n",
      "\tmean F(1000) for original model: 0.135\n",
      "\tmean F(1000) for sticky/PA model: 0.135\n",
      "\tMann-Whitney U test:\n",
      "\t\tp-value:  0.875439706422 \n",
      "\t\tU =  501989.5 \n",
      "\n",
      "F(0) = 0.155\n",
      "\tmean F(1000) for original model: 0.219\n",
      "\tmean F(1000) for sticky/PA model: 0.303\n",
      "\tMann-Whitney U test:\n",
      "\t\tp-value:  2.13321696301e-06 ***\n",
      "\t\tU =  560508.5 \n",
      "\n",
      "F(0) =  0.16\n",
      "\tmean F(1000) for original model: 0.322\n",
      "\tmean F(1000) for sticky/PA model: 0.449\n",
      "\tMann-Whitney U test:\n",
      "\t\tp-value:  4.74167482066e-23 ***\n",
      "\t\tU =  626799.5 \n",
      "\n",
      "F(0) = 0.165\n",
      "\tmean F(1000) for original model: 0.404\n",
      "\tmean F(1000) for sticky/PA model: 0.542\n",
      "\tMann-Whitney U test:\n",
      "\t\tp-value:  1.13454075841e-28 ***\n",
      "\t\tU =  642929.0 \n",
      "\n",
      "F(0) =  0.17\n",
      "\tmean F(1000) for original model: 0.502\n",
      "\tmean F(1000) for sticky/PA model: 0.643\n",
      "\tMann-Whitney U test:\n",
      "\t\tp-value:  4.48606542619e-49 ***\n",
      "\t\tU =  689813.5 \n",
      "\n",
      "F(0) = 0.175\n",
      "\tmean F(1000) for original model: 0.612\n",
      "\tmean F(1000) for sticky/PA model: 0.716\n",
      "\tMann-Whitney U test:\n",
      "\t\tp-value:  3.19906285664e-67 ***\n",
      "\t\tU =  723498.0 \n",
      "\n",
      "F(0) =  0.18\n",
      "\tmean F(1000) for original model: 0.702\n",
      "\tmean F(1000) for sticky/PA model: 0.795\n",
      "\tMann-Whitney U test:\n",
      "\t\tp-value:  7.12913095337e-105 ***\n",
      "\t\tU =  780707.5 \n",
      "\n",
      "F(0) = 0.185\n",
      "\tmean F(1000) for original model: 0.793\n",
      "\tmean F(1000) for sticky/PA model: 0.873\n",
      "\tMann-Whitney U test:\n",
      "\t\tp-value:  1.87099489665e-152 ***\n",
      "\t\tU =  839464.5 \n",
      "\n",
      "F(0) =  0.19\n",
      "\tmean F(1000) for original model: 0.846\n",
      "\tmean F(1000) for sticky/PA model: 0.917\n",
      "\tMann-Whitney U test:\n",
      "\t\tp-value:  9.30978338418e-187 ***\n",
      "\t\tU =  876170.0 \n",
      "\n",
      "F(0) = 0.195\n",
      "\tmean F(1000) for original model: 0.871\n",
      "\tmean F(1000) for sticky/PA model: 0.933\n",
      "\tMann-Whitney U test:\n",
      "\t\tp-value:  1.0690016283e-201 ***\n",
      "\t\tU =  891063.0 \n",
      "\n",
      "F(0) =   0.2\n",
      "\tmean F(1000) for original model: 0.878\n",
      "\tmean F(1000) for sticky/PA model: 0.945\n",
      "\tMann-Whitney U test:\n",
      "\t\tp-value:  1.2030394595e-223 ***\n",
      "\t\tU =  911995.5 \n",
      "\n"
     ]
    }
   ],
   "source": [
    "for init_F, df in long_run_results.groupby('init_F'):\n",
    "    df_grouped_by_r_xi = df.groupby(['r', 'xi'])\n",
    "    print('F(0) = {:>5}'.format(init_F), end='\\n\\t')\n",
    "    original_final_F = df_grouped_by_r_xi.get_group((1, 0))['final_F']\n",
    "    sticky_PA_final_F = df_grouped_by_r_xi.get_group((2000, 1))['final_F']\n",
    "    print('mean F(1000) for original model: {:>5.3f}'.format(original_final_F.mean()), end='\\n\\t')\n",
    "    print('mean F(1000) for sticky/PA model: {:>5.3f}'.format(sticky_PA_final_F.mean()), end='\\n\\t')\n",
    "    \n",
    "    mann_whitney_test = stats.mannwhitneyu(sticky_PA_final_F, original_final_F, alternative='two-sided')\n",
    "    print('Mann-Whitney U test:')\n",
    "    print('\\t\\tp-value: ', mann_whitney_test.pvalue, end=' ') \n",
    "    if mann_whitney_test.pvalue < 10**(-3):\n",
    "        print('*' * 3)\n",
    "    else:\n",
    "        print('')\n",
    "    print('\\t\\tU = ', mann_whitney_test.statistic, end=' ') \n",
    "    print('\\n')"
   ]
  },
  {
   "cell_type": "markdown",
   "metadata": {},
   "source": [
    "### Check the robustness of the difference in variance in the time-series in Figure SI-1(b)"
   ]
  },
  {
   "cell_type": "markdown",
   "metadata": {},
   "source": [
    "Below we run simulations with the same parameters and starting condition as in Figure SI-1(b) and record the mean and standard deviation of the time-series. "
   ]
  },
  {
   "cell_type": "markdown",
   "metadata": {},
   "source": [
    "#### Run 200 simulations as in Figure SI-1(b)"
   ]
  },
  {
   "cell_type": "markdown",
   "metadata": {},
   "source": [
    "Running the cell below takes about 21 hours to complete. Either run this cell or skip it to import the results in the section titled **Import the results of running 200 simulations**."
   ]
  },
  {
   "cell_type": "code",
   "execution_count": null,
   "metadata": {
    "collapsed": true
   },
   "outputs": [],
   "source": [
    "parameters = product(range(200), ((1, 0), (2000, 1)))\n",
    "\n",
    "def simulate_long_run_variance(trial_number, r, xi):\n",
    "    n_agents = 1000\n",
    "    beta = .4\n",
    "    n_steps = 200 * n_agents\n",
    "    L = 1\n",
    "    F0 = 0.7\n",
    "    exog_fail = 0.0001\n",
    "    alpha = 0.15\n",
    "    econ = ABM.Economy(\n",
    "        n_agents, F0, alpha=alpha, beta=beta, r=r, exog_fail=exog_fail, xi=xi)\n",
    "    frac_functional_history = []\n",
    "    init_best_response = econ.latest_best_response\n",
    "    result = {\n",
    "        'init_n_inputs_needed': init_best_response.n_inputs_needed,\n",
    "        'init_n_inputs_attempted': init_best_response.n_inputs_attempted}\n",
    "\n",
    "    for i in range(n_steps):\n",
    "        econ.update_one_step()\n",
    "        frac_functional_history.append(econ.fraction_functional_agents())\n",
    "\n",
    "    final_best_response = econ.latest_best_response\n",
    "    result.update({\n",
    "        'final_n_inputs_needed': final_best_response.n_inputs_needed,\n",
    "        'final_n_inputs_attempted': final_best_response.n_inputs_attempted,\n",
    "        'final_F': econ.fraction_functional_agents(),\n",
    "        'n_agents': n_agents, 'init_F': F0, 'alpha': alpha, 'beta': beta, 'xi': xi,\n",
    "        'r': r, 'L': L, 'n_steps': n_steps,\n",
    "        'mean_F': np.mean(frac_functional_history),\n",
    "        'std_F': np.std(frac_functional_history),\n",
    "        'max_F': np.max(frac_functional_history),\n",
    "        'min_F': np.min(frac_functional_history)})\n",
    "    buffers = {\n",
    "        'init_buffer': (result['init_n_inputs_attempted'] -\n",
    "                        result['init_n_inputs_needed']),\n",
    "        'final_buffer': (result['final_n_inputs_attempted'] -\n",
    "                         result['final_n_inputs_needed'])}\n",
    "\n",
    "    result.update(buffers)\n",
    "    return result\n",
    "\n",
    "try:\n",
    "    long_run_variance_simulations\n",
    "except NameError:\n",
    "    long_run_variance_simulations = None\n",
    "\n",
    "if __name__ == '__main__':\n",
    "    bar = progressbar.ProgressBar()\n",
    "    long_run_variance_simulations = pd.concat([long_run_variance_simulations, pd.DataFrame(\n",
    "        Parallel(n_jobs=4)(\n",
    "        delayed(simulate_long_run_variance)(trial, r, xi)\n",
    "            for trial, (r, xi) in bar(list(parameters))\n",
    "        )\n",
    "    )])"
   ]
  },
  {
   "cell_type": "markdown",
   "metadata": {},
   "source": [
    "##### Save the results to a `CSV` file:"
   ]
  },
  {
   "cell_type": "code",
   "execution_count": null,
   "metadata": {
    "collapsed": true
   },
   "outputs": [],
   "source": [
    "long_run_variance_simulations.to_csv(\n",
    "    os.path.join(\n",
    "        'simulated_data',\n",
    "        'long_run_variance_simulations_n1000_alpha0p15_beta0p4_eps0p0001_initF0p7.csv'))"
   ]
  },
  {
   "cell_type": "markdown",
   "metadata": {},
   "source": [
    "##### Import the results of running 200 simulations"
   ]
  },
  {
   "cell_type": "code",
   "execution_count": 11,
   "metadata": {
    "collapsed": false
   },
   "outputs": [],
   "source": [
    "long_run_variance_simulations = pd.read_csv(\n",
    "    os.path.join(\n",
    "        'simulated_data',\n",
    "        'long_run_variance_simulations_n1000_alpha0p15_beta0p4_eps0p0001_initF0p7.csv'),\n",
    "    index_col=0)"
   ]
  },
  {
   "cell_type": "markdown",
   "metadata": {},
   "source": [
    "### Analyze the results"
   ]
  },
  {
   "cell_type": "markdown",
   "metadata": {},
   "source": [
    "First we plot histograms of the standard deviation of the time-series $F(t)$ for the two models. This figure is saved as `compare_std_dev_F.pdf` in the `figures` folder."
   ]
  },
  {
   "cell_type": "code",
   "execution_count": 12,
   "metadata": {
    "collapsed": false
   },
   "outputs": [
    {
     "data": {
      "image/png": "[encoded data removed]",
      "text/plain": [
       "<matplotlib.figure.Figure at 0x11bb606d8>"
      ]
     },
     "metadata": {},
     "output_type": "display_data"
    }
   ],
   "source": [
    "colors = {(1, 0): '#2ca02c', (2000, 1): '#e377c2'}\n",
    "fig, ax = plt.subplots(figsize=(3.4, 3.4 / 5 * 3))\n",
    "grouped_std_F = long_run_variance_simulations.groupby(['r', 'xi'])['std_F']\n",
    "for r_xi, df in grouped_std_F:\n",
    "    ax.hist(df, bins=30, normed=False, color=colors[r_xi])\n",
    "ax.set_xlabel('standard deviation of $F(t)$', size=12)\n",
    "ax.set_ylabel('count', size=12)\n",
    "\n",
    "ax.annotate(\n",
    "    'original model\\n'\n",
    "    r'$(r, \\xi) = (1, 0)$',\n",
    "    xy=(.02, 5), xytext=(.05, 5), xycoords='data', textcoords='data',\n",
    "    arrowprops=dict(arrowstyle=\"-|>\", linewidth=1, connectionstyle=\"arc3,rad=.2\"))\n",
    "\n",
    "ax.annotate(\n",
    "    'sticky links \\& preferential \\nattachment\\n'\n",
    "    r'$(r, \\xi) = (2000, 1)$',\n",
    "    xy=(.14, 8), xytext=(.06, 12), xycoords='data', textcoords='data',\n",
    "    arrowprops=dict(arrowstyle=\"-|>\", linewidth=1, connectionstyle=\"arc3,rad=.2\"))\n",
    "\n",
    "fig.tight_layout(pad=.15)\n",
    "fig.savefig(os.path.join(figures_path, 'compare_std_dev_F.pdf'))\n",
    "plt.show()"
   ]
  },
  {
   "cell_type": "markdown",
   "metadata": {},
   "source": [
    "Next we group by `(r, xi)` and then compute the mean and standard deviation of the mean of the time-series."
   ]
  },
  {
   "cell_type": "code",
   "execution_count": 13,
   "metadata": {
    "collapsed": false
   },
   "outputs": [
    {
     "data": {
      "text/html": [
       "<div>\n",
       "<table border=\"1\" class=\"dataframe\">\n",
       "  <thead>\n",
       "    <tr style=\"text-align: right;\">\n",
       "      <th></th>\n",
       "      <th></th>\n",
       "      <th>count</th>\n",
       "      <th>mean_std_F</th>\n",
       "      <th>std_std_F</th>\n",
       "    </tr>\n",
       "    <tr>\n",
       "      <th>r</th>\n",
       "      <th>xi</th>\n",
       "      <th></th>\n",
       "      <th></th>\n",
       "      <th></th>\n",
       "    </tr>\n",
       "  </thead>\n",
       "  <tbody>\n",
       "    <tr>\n",
       "      <th>1</th>\n",
       "      <th>0</th>\n",
       "      <td>200</td>\n",
       "      <td>0.017368</td>\n",
       "      <td>0.002047</td>\n",
       "    </tr>\n",
       "    <tr>\n",
       "      <th>2000</th>\n",
       "      <th>1</th>\n",
       "      <td>200</td>\n",
       "      <td>0.148679</td>\n",
       "      <td>0.008997</td>\n",
       "    </tr>\n",
       "  </tbody>\n",
       "</table>\n",
       "</div>"
      ],
      "text/plain": [
       "         count  mean_std_F  std_std_F\n",
       "r    xi                              \n",
       "1    0     200    0.017368   0.002047\n",
       "2000 1     200    0.148679   0.008997"
      ]
     },
     "execution_count": 13,
     "metadata": {},
     "output_type": "execute_result"
    }
   ],
   "source": [
    "compare_std_F = long_run_variance_simulations.groupby(['r', 'xi']).std_F.agg(\n",
    "    {'mean_std_F': 'mean', 'std_std_F': 'std', 'count': 'size'})\n",
    "compare_std_F"
   ]
  },
  {
   "cell_type": "markdown",
   "metadata": {},
   "source": [
    "The sticky links + preferential attachment model has a variance that is 8.6 times larger:"
   ]
  },
  {
   "cell_type": "code",
   "execution_count": 14,
   "metadata": {
    "collapsed": false
   },
   "outputs": [
    {
     "data": {
      "text/plain": [
       "8.5603155914693208"
      ]
     },
     "execution_count": 14,
     "metadata": {},
     "output_type": "execute_result"
    }
   ],
   "source": [
    "compare_std_F.loc[(2000, 1)].mean_std_F / compare_std_F.loc[(1, 0)].mean_std_F"
   ]
  },
  {
   "cell_type": "markdown",
   "metadata": {},
   "source": [
    "This 8.6-fold difference amounts to a difference in 14.6 standard deviations:"
   ]
  },
  {
   "cell_type": "code",
   "execution_count": 15,
   "metadata": {
    "collapsed": false
   },
   "outputs": [
    {
     "data": {
      "text/plain": [
       "14.594320683612567"
      ]
     },
     "execution_count": 15,
     "metadata": {},
     "output_type": "execute_result"
    }
   ],
   "source": [
    "((compare_std_F.loc[(2000, 1)].mean_std_F - compare_std_F.loc[(1, 0)].mean_std_F) /\n",
    " compare_std_F.loc[(2000, 1)].std_std_F)"
   ]
  },
  {
   "cell_type": "markdown",
   "metadata": {},
   "source": [
    "In a two-sided t-test (using [scipy's `ttest_ind`](https://docs.scipy.org/doc/scipy-0.18.1/reference/generated/scipy.stats.mstats.ttest_ind.html)) that allows for unequal variances in the two populations (because, as found below, the variances are found to be statistically significantly different), we obtain a p-value of `5.3e-251`:"
   ]
  },
  {
   "cell_type": "code",
   "execution_count": 16,
   "metadata": {
    "collapsed": false
   },
   "outputs": [
    {
     "name": "stdout",
     "output_type": "stream",
     "text": [
      "two-sided t-test:  Ttest_indResult(statistic=201.25107600636568, pvalue=5.3738774686082749e-251)\n"
     ]
    }
   ],
   "source": [
    "std_F_sticky_PA = long_run_variance_simulations.groupby(['r', 'xi']).get_group((2000, 1)).std_F\n",
    "std_F_original_model = long_run_variance_simulations.groupby(['r', 'xi']).get_group((1, 0)).std_F\n",
    "\n",
    "print('two-sided t-test: ', stats.ttest_ind(std_F_sticky_PA, std_F_original_model, equal_var = False))"
   ]
  },
  {
   "cell_type": "markdown",
   "metadata": {},
   "source": [
    "We also find that a two-sided [Mann-Whitney U test](https://docs.scipy.org/doc/scipy/reference/generated/scipy.stats.mannwhitneyu.html) has a very small p-value (`1e-67`):"
   ]
  },
  {
   "cell_type": "code",
   "execution_count": 17,
   "metadata": {
    "collapsed": false
   },
   "outputs": [
    {
     "data": {
      "text/plain": [
       "MannwhitneyuResult(statistic=40000.0, pvalue=4.8281376854765731e-67)"
      ]
     },
     "execution_count": 17,
     "metadata": {},
     "output_type": "execute_result"
    }
   ],
   "source": [
    "stats.mannwhitneyu(std_F_sticky_PA, std_F_original_model, alternative='two-sided')"
   ]
  },
  {
   "cell_type": "markdown",
   "metadata": {},
   "source": [
    "##### Check normality and different variances"
   ]
  },
  {
   "cell_type": "markdown",
   "metadata": {},
   "source": [
    "Below we find that the standard deviations of the time-series $F(t)$ (plotted as a histogram above) are normal with p-values `0.06` and `2.6e-5`."
   ]
  },
  {
   "cell_type": "code",
   "execution_count": 18,
   "metadata": {
    "collapsed": false
   },
   "outputs": [
    {
     "name": "stdout",
     "output_type": "stream",
     "text": [
      "standard deviation of the time-series F(t) in the sticky links + preferential attachment model (r, xi) = (2000, 1)\n",
      "------------------------------------------------------------------------------------------------------------------\n",
      "    variance:  8.054778432476105e-05\n",
      "    normality test:  NormaltestResult(statistic=5.5066638428481633, pvalue=0.063715213056550507)\n",
      "\n",
      "\n",
      "standard deviation of the time-series F(t) in the original model (r, xi) = (1, 0)\n",
      "---------------------------------------------------------------------------------\n",
      "    variance:  4.170068846415391e-06\n",
      "    normality test:  NormaltestResult(statistic=21.06662330621657, pvalue=2.6634274591990452e-05)\n"
     ]
    }
   ],
   "source": [
    "print('standard deviation of the time-series F(t) in the sticky links + preferential attachment model (r, xi) = (2000, 1)')\n",
    "print('-' * 114)\n",
    "print('    variance: ', np.var(std_F_sticky_PA))\n",
    "print('    normality test: ', stats.normaltest(std_F_sticky_PA), end='\\n' * 3)\n",
    "\n",
    "print('standard deviation of the time-series F(t) in the original model (r, xi) = (1, 0)')\n",
    "print('-' * 81)\n",
    "print('    variance: ', np.var(std_F_original_model))\n",
    "print('    normality test: ', stats.normaltest(std_F_original_model))"
   ]
  },
  {
   "cell_type": "markdown",
   "metadata": {},
   "source": [
    "According to the [Bartlett test](https://docs.scipy.org/doc/scipy-0.14.0/reference/generated/scipy.stats.bartlett.html#scipy.stats.bartlett), their variances are different (p-value `2.6e-74`), so we reject the null hypothesis that they are drawn from populations with the same variance.\n",
    "\n",
    "In case the sticky/preferential attachment model's standard deviation of $F(t)$ is not normally distributed, we also use the [Levene test](https://docs.scipy.org/doc/scipy-0.14.0/reference/generated/scipy.stats.levene.html) with the parameter `center` set to the `'mean'` and to `'median'` (to check both).\n",
    "\n",
    "In all three cases, we get a very small p-value (`1e-74`, `1e-44`, `1e-42`, respectively), so we reject the null hypothesis that the variances are the same, and hence in the two-sided t-test above we set the keyword argument `equal_var` to `False`."
   ]
  },
  {
   "cell_type": "code",
   "execution_count": 19,
   "metadata": {
    "collapsed": false
   },
   "outputs": [
    {
     "name": "stdout",
     "output_type": "stream",
     "text": [
      "Bartlett test (null hypothesis: equal variance; used for normal data):\n",
      "\t BartlettResult(statistic=332.60377934742064, pvalue=2.6042782685094785e-74)\n",
      "\n",
      "Levene test with center=mean (null hypothesis: equal variance; used for potentially non-normal data)\n",
      "\t LeveneResult(statistic=248.44480534686394, pvalue=7.7379686849418843e-44)\n",
      "\n",
      "Levene test with center=mean (null hypothesis: equal variance; used for potentially non-normal data)\n",
      "\t LeveneResult(statistic=236.54816519290674, pvalue=3.1656839924059174e-42)\n"
     ]
    }
   ],
   "source": [
    "print('Bartlett test (null hypothesis: equal variance; used for normal data):\\n\\t',\n",
    "      stats.bartlett(std_F_sticky_PA, std_F_original_model), end='\\n\\n')\n",
    "print('Levene test with center=mean (null hypothesis: equal variance; used for potentially non-normal data)\\n\\t',\n",
    "     stats.levene(std_F_sticky_PA, std_F_original_model, center='mean'), end='\\n\\n')\n",
    "print('Levene test with center=mean (null hypothesis: equal variance; used for potentially non-normal data)\\n\\t',\n",
    "     stats.levene(std_F_sticky_PA, std_F_original_model, center='median'))"
   ]
  },
  {
   "cell_type": "markdown",
   "metadata": {},
   "source": [
    "## Dependencies"
   ]
  },
  {
   "cell_type": "code",
   "execution_count": 20,
   "metadata": {
    "collapsed": false
   },
   "outputs": [
    {
     "data": {
      "text/plain": [
       "'3.5.2 |Anaconda custom (x86_64)| (default, Jul  2 2016, 17:52:12) \\n[GCC 4.2.1 Compatible Apple LLVM 4.2 (clang-425.0.28)]'"
      ]
     },
     "execution_count": 20,
     "metadata": {},
     "output_type": "execute_result"
    }
   ],
   "source": [
    "import sys\n",
    "sys.version"
   ]
  },
  {
   "cell_type": "code",
   "execution_count": 21,
   "metadata": {
    "collapsed": false
   },
   "outputs": [
    {
     "name": "stdout",
     "output_type": "stream",
     "text": [
      "matplotlib 2.0.0\n",
      "pandas 0.19.2\n",
      "seaborn 0.7.1\n",
      "numpy 1.11.3\n",
      "progressbar 3.12.0\n",
      "joblib 0.10.3\n"
     ]
    }
   ],
   "source": [
    "import joblib\n",
    "for pkg in [mpl, pd, sns, np, progressbar, joblib]:\n",
    "    print(pkg.__name__, pkg.__version__)"
   ]
  }
 ],
 "metadata": {
  "anaconda-cloud": {},
  "kernelspec": {
   "display_name": "Python [default]",
   "language": "python",
   "name": "python3"
  },
  "language_info": {
   "codemirror_mode": {
    "name": "ipython",
    "version": 3
   },
   "file_extension": ".py",
   "mimetype": "text/x-python",
   "name": "python",
   "nbconvert_exporter": "python",
   "pygments_lexer": "ipython3",
   "version": "3.5.2"
  }
 },
 "nbformat": 4,
 "nbformat_minor": 1
}
